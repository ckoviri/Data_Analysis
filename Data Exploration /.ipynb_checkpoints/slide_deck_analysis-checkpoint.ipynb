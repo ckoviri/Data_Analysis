{
 "cells": [
  {
   "cell_type": "markdown",
   "metadata": {
    "slideshow": {
     "slide_type": "slide"
    }
   },
   "source": [
    "# Visualizing -  FordGoBike Data\n",
    "## by chinni Venkata Raju Koviri"
   ]
  },
  {
   "cell_type": "markdown",
   "metadata": {
    "slideshow": {
     "slide_type": "slide"
    }
   },
   "source": [
    "## Investigation Overview\n",
    "\n",
    "> After investigation of Ford GoBike System bike-sharing system covering the greater San Francisco Bay area, I wanted to explain at customer behavious, how user attributes and station locations impacting the business. Also i wanted to provide the information on which the company should focus on to increase their business.\n",
    "\n",
    "\n",
    "## Dataset Overview\n",
    "\n",
    "> Data consists of mulitple attributes which gives us the information about \n",
    "- type of user \n",
    "- When and where the rider started the trip\n",
    "- When and where the rider end his/her trip\n",
    "- birth year of the user or customer\n",
    "- Trip duration\n",
    "\n",
    "From the above data I derived some other attributes which gives us more understanding and insights.\n",
    "### Data set source:\n",
    "> source : https://www.lyft.com/bikes/bay-wheels/system-data"
   ]
  },
  {
   "cell_type": "code",
   "execution_count": 2,
   "metadata": {
    "slideshow": {
     "slide_type": "skip"
    }
   },
   "outputs": [
    {
     "name": "stderr",
     "output_type": "stream",
     "text": [
      "/opt/anaconda3/lib/python3.7/site-packages/statsmodels/tools/_testing.py:19: FutureWarning: pandas.util.testing is deprecated. Use the functions in the public API at pandas.testing instead.\n",
      "  import pandas.util.testing as tm\n"
     ]
    }
   ],
   "source": [
    "# import all packages and set plots to be embedded inline\n",
    "import numpy as np\n",
    "import pandas as pd\n",
    "import matplotlib.pyplot as plt\n",
    "import os\n",
    "import geopandas\n",
    "import seaborn as sns\n",
    "import zipfile as zfile\n",
    "import requests\n",
    "import missingno as ms\n",
    "%matplotlib inline\n",
    "\n",
    "# suppress warnings from final output\n",
    "import warnings\n",
    "warnings.simplefilter(\"ignore\")"
   ]
  },
  {
   "cell_type": "code",
   "execution_count": 3,
   "metadata": {
    "slideshow": {
     "slide_type": "skip"
    }
   },
   "outputs": [
    {
     "data": {
      "text/html": [
       "<div>\n",
       "<style scoped>\n",
       "    .dataframe tbody tr th:only-of-type {\n",
       "        vertical-align: middle;\n",
       "    }\n",
       "\n",
       "    .dataframe tbody tr th {\n",
       "        vertical-align: top;\n",
       "    }\n",
       "\n",
       "    .dataframe thead th {\n",
       "        text-align: right;\n",
       "    }\n",
       "</style>\n",
       "<table border=\"1\" class=\"dataframe\">\n",
       "  <thead>\n",
       "    <tr style=\"text-align: right;\">\n",
       "      <th></th>\n",
       "      <th>Unnamed: 0</th>\n",
       "      <th>duration_sec</th>\n",
       "      <th>start_time</th>\n",
       "      <th>end_time</th>\n",
       "      <th>start_station_id</th>\n",
       "      <th>start_station_name</th>\n",
       "      <th>start_station_latitude</th>\n",
       "      <th>start_station_longitude</th>\n",
       "      <th>end_station_id</th>\n",
       "      <th>end_station_name</th>\n",
       "      <th>...</th>\n",
       "      <th>bike_share_for_all_trip</th>\n",
       "      <th>start_day</th>\n",
       "      <th>start_month</th>\n",
       "      <th>end_day</th>\n",
       "      <th>end_month</th>\n",
       "      <th>duration_min</th>\n",
       "      <th>member_age</th>\n",
       "      <th>dist</th>\n",
       "      <th>duration</th>\n",
       "      <th>age_group</th>\n",
       "    </tr>\n",
       "  </thead>\n",
       "  <tbody>\n",
       "    <tr>\n",
       "      <th>0</th>\n",
       "      <td>0</td>\n",
       "      <td>75284</td>\n",
       "      <td>2018-01-31 22:52:35.239</td>\n",
       "      <td>2018-02-01 19:47:19.824</td>\n",
       "      <td>120</td>\n",
       "      <td>Mission Dolores Park</td>\n",
       "      <td>37.761420</td>\n",
       "      <td>-122.426435</td>\n",
       "      <td>285</td>\n",
       "      <td>Webster St at O'Farrell St</td>\n",
       "      <td>...</td>\n",
       "      <td>No</td>\n",
       "      <td>Wednesday</td>\n",
       "      <td>January</td>\n",
       "      <td>Thursday</td>\n",
       "      <td>February</td>\n",
       "      <td>1254</td>\n",
       "      <td>34</td>\n",
       "      <td>2.492254</td>\n",
       "      <td>above60mins</td>\n",
       "      <td>30-40</td>\n",
       "    </tr>\n",
       "    <tr>\n",
       "      <th>1</th>\n",
       "      <td>1</td>\n",
       "      <td>85422</td>\n",
       "      <td>2018-01-31 16:13:34.351</td>\n",
       "      <td>2018-02-01 15:57:17.310</td>\n",
       "      <td>15</td>\n",
       "      <td>San Francisco Ferry Building (Harry Bridges Pl...</td>\n",
       "      <td>37.795392</td>\n",
       "      <td>-122.394203</td>\n",
       "      <td>15</td>\n",
       "      <td>San Francisco Ferry Building (Harry Bridges Pl...</td>\n",
       "      <td>...</td>\n",
       "      <td>No</td>\n",
       "      <td>Wednesday</td>\n",
       "      <td>January</td>\n",
       "      <td>Thursday</td>\n",
       "      <td>February</td>\n",
       "      <td>1423</td>\n",
       "      <td>39</td>\n",
       "      <td>0.000000</td>\n",
       "      <td>above60mins</td>\n",
       "      <td>30-40</td>\n",
       "    </tr>\n",
       "    <tr>\n",
       "      <th>2</th>\n",
       "      <td>2</td>\n",
       "      <td>71576</td>\n",
       "      <td>2018-01-31 14:23:55.889</td>\n",
       "      <td>2018-02-01 10:16:52.116</td>\n",
       "      <td>304</td>\n",
       "      <td>Jackson St at 5th St</td>\n",
       "      <td>37.348759</td>\n",
       "      <td>-121.894798</td>\n",
       "      <td>296</td>\n",
       "      <td>5th St at Virginia St</td>\n",
       "      <td>...</td>\n",
       "      <td>No</td>\n",
       "      <td>Wednesday</td>\n",
       "      <td>January</td>\n",
       "      <td>Thursday</td>\n",
       "      <td>February</td>\n",
       "      <td>1192</td>\n",
       "      <td>24</td>\n",
       "      <td>2.974502</td>\n",
       "      <td>above60mins</td>\n",
       "      <td>20-30</td>\n",
       "    </tr>\n",
       "    <tr>\n",
       "      <th>3</th>\n",
       "      <td>3</td>\n",
       "      <td>61076</td>\n",
       "      <td>2018-01-31 14:53:23.562</td>\n",
       "      <td>2018-02-01 07:51:20.500</td>\n",
       "      <td>75</td>\n",
       "      <td>Market St at Franklin St</td>\n",
       "      <td>37.773793</td>\n",
       "      <td>-122.421239</td>\n",
       "      <td>47</td>\n",
       "      <td>4th St at Harrison St</td>\n",
       "      <td>...</td>\n",
       "      <td>No</td>\n",
       "      <td>Wednesday</td>\n",
       "      <td>January</td>\n",
       "      <td>Thursday</td>\n",
       "      <td>February</td>\n",
       "      <td>1017</td>\n",
       "      <td>39</td>\n",
       "      <td>2.049710</td>\n",
       "      <td>above60mins</td>\n",
       "      <td>30-40</td>\n",
       "    </tr>\n",
       "    <tr>\n",
       "      <th>4</th>\n",
       "      <td>4</td>\n",
       "      <td>39966</td>\n",
       "      <td>2018-01-31 19:52:24.667</td>\n",
       "      <td>2018-02-01 06:58:31.053</td>\n",
       "      <td>74</td>\n",
       "      <td>Laguna St at Hayes St</td>\n",
       "      <td>37.776435</td>\n",
       "      <td>-122.426244</td>\n",
       "      <td>19</td>\n",
       "      <td>Post St at Kearny St</td>\n",
       "      <td>...</td>\n",
       "      <td>No</td>\n",
       "      <td>Wednesday</td>\n",
       "      <td>January</td>\n",
       "      <td>Thursday</td>\n",
       "      <td>February</td>\n",
       "      <td>666</td>\n",
       "      <td>29</td>\n",
       "      <td>2.440571</td>\n",
       "      <td>above60mins</td>\n",
       "      <td>20-30</td>\n",
       "    </tr>\n",
       "  </tbody>\n",
       "</table>\n",
       "<p>5 rows × 26 columns</p>\n",
       "</div>"
      ],
      "text/plain": [
       "   Unnamed: 0  duration_sec               start_time                 end_time  \\\n",
       "0           0         75284  2018-01-31 22:52:35.239  2018-02-01 19:47:19.824   \n",
       "1           1         85422  2018-01-31 16:13:34.351  2018-02-01 15:57:17.310   \n",
       "2           2         71576  2018-01-31 14:23:55.889  2018-02-01 10:16:52.116   \n",
       "3           3         61076  2018-01-31 14:53:23.562  2018-02-01 07:51:20.500   \n",
       "4           4         39966  2018-01-31 19:52:24.667  2018-02-01 06:58:31.053   \n",
       "\n",
       "   start_station_id                                 start_station_name  \\\n",
       "0               120                               Mission Dolores Park   \n",
       "1                15  San Francisco Ferry Building (Harry Bridges Pl...   \n",
       "2               304                               Jackson St at 5th St   \n",
       "3                75                           Market St at Franklin St   \n",
       "4                74                              Laguna St at Hayes St   \n",
       "\n",
       "   start_station_latitude  start_station_longitude  end_station_id  \\\n",
       "0               37.761420              -122.426435             285   \n",
       "1               37.795392              -122.394203              15   \n",
       "2               37.348759              -121.894798             296   \n",
       "3               37.773793              -122.421239              47   \n",
       "4               37.776435              -122.426244              19   \n",
       "\n",
       "                                    end_station_name  ...  \\\n",
       "0                         Webster St at O'Farrell St  ...   \n",
       "1  San Francisco Ferry Building (Harry Bridges Pl...  ...   \n",
       "2                              5th St at Virginia St  ...   \n",
       "3                              4th St at Harrison St  ...   \n",
       "4                               Post St at Kearny St  ...   \n",
       "\n",
       "   bike_share_for_all_trip  start_day  start_month   end_day  end_month  \\\n",
       "0                       No  Wednesday      January  Thursday   February   \n",
       "1                       No  Wednesday      January  Thursday   February   \n",
       "2                       No  Wednesday      January  Thursday   February   \n",
       "3                       No  Wednesday      January  Thursday   February   \n",
       "4                       No  Wednesday      January  Thursday   February   \n",
       "\n",
       "  duration_min member_age      dist     duration age_group  \n",
       "0         1254         34  2.492254  above60mins     30-40  \n",
       "1         1423         39  0.000000  above60mins     30-40  \n",
       "2         1192         24  2.974502  above60mins     20-30  \n",
       "3         1017         39  2.049710  above60mins     30-40  \n",
       "4          666         29  2.440571  above60mins     20-30  \n",
       "\n",
       "[5 rows x 26 columns]"
      ]
     },
     "execution_count": 3,
     "metadata": {},
     "output_type": "execute_result"
    }
   ],
   "source": [
    "# load in the dataset into a pandas dataframe\n",
    "df = pd.read_csv(\"cleaneddata.csv\")\n",
    "df.head()"
   ]
  },
  {
   "cell_type": "markdown",
   "metadata": {
    "slideshow": {
     "slide_type": "notes"
    }
   },
   "source": [
    "> Note that the above cells have been set as \"Skip\"-type slides. That means\n",
    "that when the notebook is rendered as http slides, those cells won't show up."
   ]
  },
  {
   "cell_type": "markdown",
   "metadata": {
    "slideshow": {
     "slide_type": "slide"
    }
   },
   "source": [
    "## Comparison between Duration of Trips\n",
    "\n",
    "> - created bins for the duration data \n",
    "- count plot to show variations in number of trips based on duration.\n",
    "\n",
    "> Observations:\n",
    "- Most of the rides are below 10minutes. Thats means the users are travelling for shorter duration."
   ]
  },
  {
   "cell_type": "code",
   "execution_count": 22,
   "metadata": {
    "slideshow": {
     "slide_type": "subslide"
    }
   },
   "outputs": [
    {
     "data": {
      "image/png": "[encoded data removed]",
      "text/plain": [
       "<Figure size 1080x360 with 1 Axes>"
      ]
     },
     "metadata": {
      "needs_background": "light"
     },
     "output_type": "display_data"
    }
   ],
   "source": [
    "# count plot to show variations in number of trips based on duration.\n",
    "bin_labels= ['below-10min', '10-30mins', '30-60mins', 'above60mins']\n",
    "bins = [0,10,30,60,1439]\n",
    "df[\"duration\"] = pd.cut(df['duration_min'], bins,labels=bin_labels)\n",
    "chart = sns.catplot(data = df, x = 'duration', kind = 'count', palette = sns.light_palette(\"navy\"), height = 5,aspect =3);\n",
    "chart.set_axis_labels('Duration', 'Number of Bike Trips');\n",
    "chart.fig.suptitle(\"Duration vs Number of Bike Trips \");"
   ]
  },
  {
   "cell_type": "markdown",
   "metadata": {
    "collapsed": true,
    "slideshow": {
     "slide_type": "slide"
    }
   },
   "source": [
    "## Trip counts per day\n",
    "\n",
    "> - count plot to show number of trips for day.\n",
    "\n",
    "> Observations:\n",
    "- Most of the rides are on weekdays. Thats means the users are more on weekdays compared to weekends."
   ]
  },
  {
   "cell_type": "code",
   "execution_count": 11,
   "metadata": {
    "slideshow": {
     "slide_type": "subslide"
    }
   },
   "outputs": [
    {
     "data": {
      "image/png": "[encoded data removed]",
      "text/plain": [
       "<Figure size 1080x360 with 1 Axes>"
      ]
     },
     "metadata": {
      "needs_background": "light"
     },
     "output_type": "display_data"
    }
   ],
   "source": [
    "# catplot using seaborn libraray for Trip counts by day\n",
    "days = ['Monday', 'Tuesday', 'Wednesday', 'Thursday', 'Friday', 'Saturday', 'Sunday']\n",
    "chart = sns.catplot(data=df, x='start_day', kind='count', order= days, palette = sns.cubehelix_palette(7), height = 5,aspect =3);\n",
    "chart.set_xticklabels(rotation=75);\n",
    "chart.set_axis_labels('Day', 'Number of Bike Trips');\n",
    "chart.fig.suptitle(\"Number of Bike Trips VS Trip Start Day\");"
   ]
  },
  {
   "cell_type": "markdown",
   "metadata": {
    "slideshow": {
     "slide_type": "slide"
    }
   },
   "source": [
    "## Age Group vs Number of trips\n",
    "\n",
    "> - count plot to show number of trips per each age group.\n",
    "\n",
    "> Observations:\n",
    "- Most of the riders belongs to  30-40 age group."
   ]
  },
  {
   "cell_type": "code",
   "execution_count": 21,
   "metadata": {
    "slideshow": {
     "slide_type": "subslide"
    }
   },
   "outputs": [
    {
     "data": {
      "image/png": "[encoded data removed]",
      "text/plain": [
       "<Figure size 1080x360 with 1 Axes>"
      ]
     },
     "metadata": {
      "needs_background": "light"
     },
     "output_type": "display_data"
    }
   ],
   "source": [
    "#count plot to show number of trips per each age group.\n",
    "bin_labels= ['20-30', '30-40', '40-60', 'above60 ']\n",
    "bins = [20,30,40,60,120]\n",
    "df[\"age_group\"] = pd.cut(df['member_age'], bins,labels=bin_labels)\n",
    "chart = sns.catplot(data = df, x = 'age_group', kind = 'count', palette = sns.cubehelix_palette(4), height = 5,aspect =3);\n",
    "chart.set_axis_labels('Age Group', 'Number of Bike Trips')\n",
    "chart.fig.suptitle(\"No of bike rides by age group\");"
   ]
  },
  {
   "cell_type": "markdown",
   "metadata": {
    "slideshow": {
     "slide_type": "notes"
    }
   },
   "source": [
    "> Once you're ready to finish your presentation, check your output by using\n",
    "nbconvert to export the notebook and set up a server for the slides. From the\n",
    "terminal or command line, use the following expression:\n",
    "> > `jupyter nbconvert <file_name>.ipynb --to slides --post serve --template output_toggle`\n",
    "\n",
    "> This should open a tab in your web browser where you can scroll through your\n",
    "presentation. Sub-slides can be accessed by pressing 'down' when viewing its parent\n",
    "slide. Make sure you remove all of the quote-formatted guide notes like this one\n",
    "before you finish your presentation!"
   ]
  },
  {
   "cell_type": "markdown",
   "metadata": {
    "slideshow": {
     "slide_type": "slide"
    }
   },
   "source": [
    "# Number of Bike Trips per day for differnt users\n",
    "\n",
    "> - count plot to show number of trips per day for differnt users.\n",
    "\n",
    "> Observations:\n",
    "- Most of the rides are on weekdays. Thats means the users are more on weekdays compared to weekends.\n",
    "- Most of the riders are Subscribers."
   ]
  },
  {
   "cell_type": "code",
   "execution_count": 31,
   "metadata": {
    "slideshow": {
     "slide_type": "subslide"
    }
   },
   "outputs": [
    {
     "data": {
      "image/png": "[encoded data removed]",
      "text/plain": [
       "<Figure size 936x360 with 2 Axes>"
      ]
     },
     "metadata": {
      "needs_background": "light"
     },
     "output_type": "display_data"
    }
   ],
   "source": [
    "#catplot for comparision between Users based on no.of trips taken per day\n",
    "chart = sns.catplot(data=df, x='start_day', kind='count', col=\"user_type\",palette = sns.cubehelix_palette(7), height = 5,aspect =1.3);\n",
    "chart.set_axis_labels(\"Day\", \"Number of Bike Trips\");\n",
    "chart.set_titles(\"{col_name}\",  fontsize=8);\n",
    "chart.fig.suptitle('Subscribers vs Customers ',  fontsize=20, fontweight='bold',y=1);\n",
    "chart.set_xticklabels(rotation=75,fontsize=8);"
   ]
  },
  {
   "cell_type": "markdown",
   "metadata": {
    "slideshow": {
     "slide_type": "slide"
    }
   },
   "source": [
    "# Conclusion:\n",
    "> Based on my analysis The company should provide some offers for below catergories to increase their business.\n",
    "- for female customers\n",
    "- on long rides\n",
    "- on weekends\n",
    "- for Age group above 40\n",
    "- for customers to become subscribers"
   ]
  },
  {
   "cell_type": "code",
   "execution_count": null,
   "metadata": {},
   "outputs": [],
   "source": []
  }
 ],
 "metadata": {
  "celltoolbar": "Slideshow",
  "kernelspec": {
   "display_name": "Python 3",
   "language": "python",
   "name": "python3"
  },
  "language_info": {
   "codemirror_mode": {
    "name": "ipython",
    "version": 3
   },
   "file_extension": ".py",
   "mimetype": "text/x-python",
   "name": "python",
   "nbconvert_exporter": "python",
   "pygments_lexer": "ipython3",
   "version": "3.7.4"
  }
 },
 "nbformat": 4,
 "nbformat_minor": 2
}
